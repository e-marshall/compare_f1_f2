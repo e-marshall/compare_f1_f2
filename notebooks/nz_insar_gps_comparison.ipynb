{
 "cells": [
  {
   "cell_type": "code",
   "execution_count": 1,
   "id": "31865b00",
   "metadata": {},
   "outputs": [],
   "source": [
    "%load_ext autoreload\n",
    "%autoreload 2\n"
   ]
  },
  {
   "cell_type": "code",
   "execution_count": 20,
   "id": "9c5fd21d",
   "metadata": {},
   "outputs": [],
   "source": [
    "\n",
    "import matplotlib.pyplot as plt\n",
    "import numpy as np \n",
    "import xarray as xr\n"
   ]
  },
  {
   "cell_type": "code",
   "execution_count": 15,
   "id": "6e3901e8",
   "metadata": {},
   "outputs": [],
   "source": [
    "#Specify where the f2 results are \n",
    "pipeline_id = 'facts2_nz_insar_vlm_validate'\n",
    "fname = pipeline_id + '_localsl.nc'\n",
    "f2_nzinsar_results_dir = '/Users/emmamarshall/Desktop/facts_work/facts_v2/nzinsargps-verticallandmotion/data/output'\n"
   ]
  },
  {
   "cell_type": "code",
   "execution_count": 19,
   "id": "59781c2a",
   "metadata": {},
   "outputs": [],
   "source": [
    "f2_path = f2_nzinsar_results_dir + '/' + fname\n",
    "f2_ds = xr.open_dataset(f2_path)"
   ]
  },
  {
   "cell_type": "code",
   "execution_count": 17,
   "id": "dc7bd6f9",
   "metadata": {},
   "outputs": [],
   "source": [
    "f1_path = '/Users/emmamarshall/Desktop/facts_work/facts_v1/facts/experiments/nzinsargps.vlm/output/nzinsargps.vlm.nzinsargpsvlm.NZInsarGPS.verticallandmotion_localsl.nc'\n",
    "f1_ds = xr.open_dataset(f1_path)"
   ]
  },
  {
   "cell_type": "code",
   "execution_count": 18,
   "id": "c7647349",
   "metadata": {},
   "outputs": [
    {
     "data": {
      "text/plain": [
       "True"
      ]
     },
     "execution_count": 18,
     "metadata": {},
     "output_type": "execute_result"
    }
   ],
   "source": [
    "f1_ds['sea_level_change'].equals(f2_ds['sea_level_change'])"
   ]
  }
 ],
 "metadata": {
  "kernelspec": {
   "display_name": "compare-f1-f2",
   "language": "python",
   "name": "python3"
  },
  "language_info": {
   "codemirror_mode": {
    "name": "ipython",
    "version": 3
   },
   "file_extension": ".py",
   "mimetype": "text/x-python",
   "name": "python",
   "nbconvert_exporter": "python",
   "pygments_lexer": "ipython3",
   "version": "3.12.11"
  }
 },
 "nbformat": 4,
 "nbformat_minor": 5
}
